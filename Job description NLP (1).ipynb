{
 "cells": [
  {
   "cell_type": "code",
   "execution_count": 1,
   "id": "a3ff810e-1824-4b8b-8a5a-c14665f698b3",
   "metadata": {},
   "outputs": [],
   "source": [
    "import pandas as pd\n",
    "import nltk\n",
    "from nltk.corpus import stopwords\n",
    "from nltk.tokenize import word_tokenize\n",
    "from nltk.stem import WordNetLemmatizer\n",
    "import string"
   ]
  },
  {
   "cell_type": "code",
   "execution_count": 2,
   "id": "4d5b6975-f8dd-49aa-a96e-9103bebc1eec",
   "metadata": {},
   "outputs": [
    {
     "data": {
      "text/html": [
       "<div>\n",
       "<style scoped>\n",
       "    .dataframe tbody tr th:only-of-type {\n",
       "        vertical-align: middle;\n",
       "    }\n",
       "\n",
       "    .dataframe tbody tr th {\n",
       "        vertical-align: top;\n",
       "    }\n",
       "\n",
       "    .dataframe thead th {\n",
       "        text-align: right;\n",
       "    }\n",
       "</style>\n",
       "<table border=\"1\" class=\"dataframe\">\n",
       "  <thead>\n",
       "    <tr style=\"text-align: right;\">\n",
       "      <th></th>\n",
       "      <th>Unnamed: 0</th>\n",
       "      <th>Job Title</th>\n",
       "      <th>Job Description</th>\n",
       "    </tr>\n",
       "  </thead>\n",
       "  <tbody>\n",
       "    <tr>\n",
       "      <th>0</th>\n",
       "      <td>0</td>\n",
       "      <td>Flutter Developer</td>\n",
       "      <td>We are looking for hire experts flutter develo...</td>\n",
       "    </tr>\n",
       "    <tr>\n",
       "      <th>1</th>\n",
       "      <td>1</td>\n",
       "      <td>Django Developer</td>\n",
       "      <td>PYTHON/DJANGO (Developer/Lead) - Job Code(PDJ ...</td>\n",
       "    </tr>\n",
       "    <tr>\n",
       "      <th>2</th>\n",
       "      <td>2</td>\n",
       "      <td>Machine Learning</td>\n",
       "      <td>Data Scientist (Contractor)\\n\\nBangalore, IN\\n...</td>\n",
       "    </tr>\n",
       "    <tr>\n",
       "      <th>3</th>\n",
       "      <td>3</td>\n",
       "      <td>iOS Developer</td>\n",
       "      <td>JOB DESCRIPTION:\\n\\nStrong framework outside o...</td>\n",
       "    </tr>\n",
       "    <tr>\n",
       "      <th>4</th>\n",
       "      <td>4</td>\n",
       "      <td>Full Stack Developer</td>\n",
       "      <td>job responsibility full stack engineer – react...</td>\n",
       "    </tr>\n",
       "    <tr>\n",
       "      <th>...</th>\n",
       "      <td>...</td>\n",
       "      <td>...</td>\n",
       "      <td>...</td>\n",
       "    </tr>\n",
       "    <tr>\n",
       "      <th>2272</th>\n",
       "      <td>2399</td>\n",
       "      <td>Backend Developer</td>\n",
       "      <td>Job Summary\\nPublished on : 26 days ago\\nVacan...</td>\n",
       "    </tr>\n",
       "    <tr>\n",
       "      <th>2273</th>\n",
       "      <td>2400</td>\n",
       "      <td>Full Stack Developer</td>\n",
       "      <td>business entity cisco umbrella focus cloud-bas...</td>\n",
       "    </tr>\n",
       "    <tr>\n",
       "      <th>2274</th>\n",
       "      <td>2401</td>\n",
       "      <td>Network Administrator</td>\n",
       "      <td>Urgently reqd in a college in Mohali\\nNetwork ...</td>\n",
       "    </tr>\n",
       "    <tr>\n",
       "      <th>2275</th>\n",
       "      <td>2402</td>\n",
       "      <td>Machine Learning</td>\n",
       "      <td>Key Responsibilities: Team leads for small or ...</td>\n",
       "    </tr>\n",
       "    <tr>\n",
       "      <th>2276</th>\n",
       "      <td>2403</td>\n",
       "      <td>Full Stack Developer</td>\n",
       "      <td>leslie hindman auctioneer one nation 's leadin...</td>\n",
       "    </tr>\n",
       "  </tbody>\n",
       "</table>\n",
       "<p>2277 rows × 3 columns</p>\n",
       "</div>"
      ],
      "text/plain": [
       "      Unnamed: 0              Job Title  \\\n",
       "0              0      Flutter Developer   \n",
       "1              1       Django Developer   \n",
       "2              2       Machine Learning   \n",
       "3              3          iOS Developer   \n",
       "4              4   Full Stack Developer   \n",
       "...          ...                    ...   \n",
       "2272        2399      Backend Developer   \n",
       "2273        2400   Full Stack Developer   \n",
       "2274        2401  Network Administrator   \n",
       "2275        2402       Machine Learning   \n",
       "2276        2403   Full Stack Developer   \n",
       "\n",
       "                                        Job Description  \n",
       "0     We are looking for hire experts flutter develo...  \n",
       "1     PYTHON/DJANGO (Developer/Lead) - Job Code(PDJ ...  \n",
       "2     Data Scientist (Contractor)\\n\\nBangalore, IN\\n...  \n",
       "3     JOB DESCRIPTION:\\n\\nStrong framework outside o...  \n",
       "4     job responsibility full stack engineer – react...  \n",
       "...                                                 ...  \n",
       "2272  Job Summary\\nPublished on : 26 days ago\\nVacan...  \n",
       "2273  business entity cisco umbrella focus cloud-bas...  \n",
       "2274  Urgently reqd in a college in Mohali\\nNetwork ...  \n",
       "2275  Key Responsibilities: Team leads for small or ...  \n",
       "2276  leslie hindman auctioneer one nation 's leadin...  \n",
       "\n",
       "[2277 rows x 3 columns]"
      ]
     },
     "execution_count": 2,
     "metadata": {},
     "output_type": "execute_result"
    }
   ],
   "source": [
    "df = pd.read_csv(r\"C:\\Users\\sthri\\Downloads\\job_title_des.csv\")\n",
    "df"
   ]
  },
  {
   "cell_type": "code",
   "execution_count": 3,
   "id": "c44d5f2b-0b31-4c24-8089-98dfb7ca24a3",
   "metadata": {},
   "outputs": [
    {
     "data": {
      "text/plain": [
       "Unnamed: 0         0\n",
       "Job Title          0\n",
       "Job Description    0\n",
       "dtype: int64"
      ]
     },
     "execution_count": 3,
     "metadata": {},
     "output_type": "execute_result"
    }
   ],
   "source": [
    "df.isnull().sum()"
   ]
  },
  {
   "cell_type": "code",
   "execution_count": 4,
   "id": "543d6155-dd0c-42f3-8160-637cfeed467f",
   "metadata": {},
   "outputs": [],
   "source": [
    "df.drop(columns=['Unnamed: 0'], axis=1, inplace=True)"
   ]
  },
  {
   "cell_type": "code",
   "execution_count": 5,
   "id": "9b3645d5-de94-4168-9b72-1f86d7f39093",
   "metadata": {},
   "outputs": [],
   "source": [
    "df.rename(columns={'Job Title': 'Title', 'Job Description': 'Description'}, inplace=True)\n"
   ]
  },
  {
   "cell_type": "code",
   "execution_count": 6,
   "id": "bcc35da9-de66-4c67-af35-536c431800ab",
   "metadata": {},
   "outputs": [
    {
     "data": {
      "text/html": [
       "<div>\n",
       "<style scoped>\n",
       "    .dataframe tbody tr th:only-of-type {\n",
       "        vertical-align: middle;\n",
       "    }\n",
       "\n",
       "    .dataframe tbody tr th {\n",
       "        vertical-align: top;\n",
       "    }\n",
       "\n",
       "    .dataframe thead th {\n",
       "        text-align: right;\n",
       "    }\n",
       "</style>\n",
       "<table border=\"1\" class=\"dataframe\">\n",
       "  <thead>\n",
       "    <tr style=\"text-align: right;\">\n",
       "      <th></th>\n",
       "      <th>Title</th>\n",
       "      <th>Description</th>\n",
       "    </tr>\n",
       "  </thead>\n",
       "  <tbody>\n",
       "    <tr>\n",
       "      <th>0</th>\n",
       "      <td>Flutter Developer</td>\n",
       "      <td>We are looking for hire experts flutter develo...</td>\n",
       "    </tr>\n",
       "    <tr>\n",
       "      <th>1</th>\n",
       "      <td>Django Developer</td>\n",
       "      <td>PYTHON/DJANGO (Developer/Lead) - Job Code(PDJ ...</td>\n",
       "    </tr>\n",
       "    <tr>\n",
       "      <th>2</th>\n",
       "      <td>Machine Learning</td>\n",
       "      <td>Data Scientist (Contractor)\\n\\nBangalore, IN\\n...</td>\n",
       "    </tr>\n",
       "    <tr>\n",
       "      <th>3</th>\n",
       "      <td>iOS Developer</td>\n",
       "      <td>JOB DESCRIPTION:\\n\\nStrong framework outside o...</td>\n",
       "    </tr>\n",
       "    <tr>\n",
       "      <th>4</th>\n",
       "      <td>Full Stack Developer</td>\n",
       "      <td>job responsibility full stack engineer – react...</td>\n",
       "    </tr>\n",
       "  </tbody>\n",
       "</table>\n",
       "</div>"
      ],
      "text/plain": [
       "                  Title                                        Description\n",
       "0     Flutter Developer  We are looking for hire experts flutter develo...\n",
       "1      Django Developer  PYTHON/DJANGO (Developer/Lead) - Job Code(PDJ ...\n",
       "2      Machine Learning  Data Scientist (Contractor)\\n\\nBangalore, IN\\n...\n",
       "3         iOS Developer  JOB DESCRIPTION:\\n\\nStrong framework outside o...\n",
       "4  Full Stack Developer  job responsibility full stack engineer – react..."
      ]
     },
     "execution_count": 6,
     "metadata": {},
     "output_type": "execute_result"
    }
   ],
   "source": [
    "df.head()"
   ]
  },
  {
   "cell_type": "code",
   "execution_count": 7,
   "id": "e8f956a1-49a3-4d14-aff7-5aa13e41b455",
   "metadata": {},
   "outputs": [
    {
     "data": {
      "text/plain": [
       "Title\n",
       "JavaScript Developer      166\n",
       "Java Developer            161\n",
       "Software Engineer         160\n",
       "Node js developer         160\n",
       "iOS Developer             159\n",
       "PHP Developer             156\n",
       "Flutter Developer         155\n",
       "DevOps Engineer           155\n",
       "Django Developer          152\n",
       "Machine Learning          152\n",
       "Backend Developer         147\n",
       "Network Administrator     145\n",
       "Database Administrator    139\n",
       "Full Stack Developer      138\n",
       "Wordpress Developer       132\n",
       "Name: count, dtype: int64"
      ]
     },
     "execution_count": 7,
     "metadata": {},
     "output_type": "execute_result"
    }
   ],
   "source": [
    "df['Title'].value_counts()"
   ]
  },
  {
   "cell_type": "markdown",
   "id": "91a20b99-e4f7-4a87-be30-e7c9c0c9e2e4",
   "metadata": {},
   "source": [
    "### NLTK Preporcessing"
   ]
  },
  {
   "cell_type": "code",
   "execution_count": 8,
   "id": "d769a9c6-39d4-4481-8405-eef114c5e4d3",
   "metadata": {},
   "outputs": [
    {
     "name": "stderr",
     "output_type": "stream",
     "text": [
      "[nltk_data] Downloading package punkt to\n",
      "[nltk_data]     C:\\Users\\sthri\\AppData\\Roaming\\nltk_data...\n",
      "[nltk_data]   Package punkt is already up-to-date!\n",
      "[nltk_data] Downloading package stopwords to\n",
      "[nltk_data]     C:\\Users\\sthri\\AppData\\Roaming\\nltk_data...\n",
      "[nltk_data]   Package stopwords is already up-to-date!\n",
      "[nltk_data] Downloading package wordnet to\n",
      "[nltk_data]     C:\\Users\\sthri\\AppData\\Roaming\\nltk_data...\n",
      "[nltk_data]   Package wordnet is already up-to-date!\n"
     ]
    },
    {
     "data": {
      "text/plain": [
       "True"
      ]
     },
     "execution_count": 8,
     "metadata": {},
     "output_type": "execute_result"
    }
   ],
   "source": [
    "nltk.download('punkt')\n",
    "nltk.download('stopwords')\n",
    "nltk.download('wordnet')"
   ]
  },
  {
   "cell_type": "code",
   "execution_count": 9,
   "id": "9d289e83-4573-405c-b9c4-8998c40ac238",
   "metadata": {},
   "outputs": [
    {
     "data": {
      "text/plain": [
       "Index(['Title', 'Description'], dtype='object')"
      ]
     },
     "execution_count": 9,
     "metadata": {},
     "output_type": "execute_result"
    }
   ],
   "source": [
    "df.columns"
   ]
  },
  {
   "cell_type": "code",
   "execution_count": 10,
   "id": "df35f811-c39b-48ee-8aa8-e23db654fc8c",
   "metadata": {},
   "outputs": [],
   "source": [
    "data_preprocess = []\n",
    "lemmatizer = WordNetLemmatizer()\n",
    "stop_words = set(stopwords.words('english'))"
   ]
  },
  {
   "cell_type": "code",
   "execution_count": 11,
   "id": "d57e2b74-e8df-4587-b233-10a1f137392e",
   "metadata": {},
   "outputs": [],
   "source": [
    "def preprocess_data(input, data_preprocess):\n",
    "    for Description in input:\n",
    "        lowered_text = Description.lower()\n",
    "        translator = str.maketrans('', '', string.punctuation)\n",
    "        cleaned_text = lowered_text.translate(translator)\n",
    "        tokenized = word_tokenize(cleaned_text)\n",
    "        stop_words_removed = [word for word in tokenized if word not in stop_words]\n",
    "        lemmatized = [lemmatizer.lemmatize(word) for word in stop_words_removed]\n",
    "        data_preprocess.append(' '.join(lemmatized))"
   ]
  },
  {
   "cell_type": "code",
   "execution_count": 12,
   "id": "36697c8d-cd96-42fd-9aeb-81046731524f",
   "metadata": {},
   "outputs": [],
   "source": [
    "input = df['Description']"
   ]
  },
  {
   "cell_type": "code",
   "execution_count": 13,
   "id": "9f3b63a8-300d-4520-8a8c-c998234b1410",
   "metadata": {},
   "outputs": [],
   "source": [
    "job = df['Title']"
   ]
  },
  {
   "cell_type": "code",
   "execution_count": 14,
   "id": "25579d29-7c13-40dd-bfa4-c43d19314449",
   "metadata": {},
   "outputs": [],
   "source": [
    "preprocess_data(input, data_preprocess)"
   ]
  },
  {
   "cell_type": "code",
   "execution_count": 15,
   "id": "597a0b30-0950-412a-8ab7-b920f3e2bbfb",
   "metadata": {},
   "outputs": [
    {
     "data": {
      "text/plain": [
       "'looking hire expert flutter developer eligible post apply resume job type fulltime parttime salary ₹2000000 ₹4000000 per month benefit flexible schedule food allowance schedule day shift supplemental pay joining bonus overtime pay experience total work 1 year preferred housing rent subsidy yes industry software development work remotely temporarily due covid19'"
      ]
     },
     "execution_count": 15,
     "metadata": {},
     "output_type": "execute_result"
    }
   ],
   "source": [
    "data_preprocess[0]"
   ]
  },
  {
   "cell_type": "markdown",
   "id": "a0232e72-0de4-4f81-a43f-2467eff73c9c",
   "metadata": {},
   "source": [
    "### Splitting data for train and test"
   ]
  },
  {
   "cell_type": "code",
   "execution_count": 16,
   "id": "de196b93-d434-418d-9d75-6be58ce6c2d9",
   "metadata": {},
   "outputs": [],
   "source": [
    "from sklearn.model_selection import train_test_split\n",
    "from sklearn.linear_model import LogisticRegression\n",
    "from sklearn.metrics import accuracy_score, classification_report\n",
    "from sklearn.feature_extraction.text import CountVectorizer"
   ]
  },
  {
   "cell_type": "code",
   "execution_count": 17,
   "id": "812b6593-7de3-4656-90e9-f77897c426d5",
   "metadata": {},
   "outputs": [],
   "source": [
    "X_train,X_test, y_train,y_test = train_test_split(data_preprocess, job, test_size=0.2, random_state=42)"
   ]
  },
  {
   "cell_type": "code",
   "execution_count": 18,
   "id": "1f89a715-9cba-4d6a-9c69-ec6f32fb7b68",
   "metadata": {},
   "outputs": [],
   "source": [
    "vectorizer = CountVectorizer()"
   ]
  },
  {
   "cell_type": "code",
   "execution_count": 19,
   "id": "4308f5ca-b7f3-4f9c-a0d9-4d36ab4b7553",
   "metadata": {},
   "outputs": [],
   "source": [
    "X_train_vec = vectorizer.fit_transform(X_train)\n",
    "X_test_vec = vectorizer.transform(X_test)"
   ]
  },
  {
   "cell_type": "code",
   "execution_count": 20,
   "id": "7b08407e-aa81-4289-a13c-7deb34e4860d",
   "metadata": {},
   "outputs": [],
   "source": [
    "model = LogisticRegression()"
   ]
  },
  {
   "cell_type": "code",
   "execution_count": 21,
   "id": "e4043018-67cc-4df1-803e-509ec312004e",
   "metadata": {},
   "outputs": [
    {
     "name": "stderr",
     "output_type": "stream",
     "text": [
      "C:\\ProgramData\\anaconda3\\Lib\\site-packages\\sklearn\\linear_model\\_logistic.py:458: ConvergenceWarning: lbfgs failed to converge (status=1):\n",
      "STOP: TOTAL NO. of ITERATIONS REACHED LIMIT.\n",
      "\n",
      "Increase the number of iterations (max_iter) or scale the data as shown in:\n",
      "    https://scikit-learn.org/stable/modules/preprocessing.html\n",
      "Please also refer to the documentation for alternative solver options:\n",
      "    https://scikit-learn.org/stable/modules/linear_model.html#logistic-regression\n",
      "  n_iter_i = _check_optimize_result(\n"
     ]
    },
    {
     "data": {
      "text/html": [
       "<style>#sk-container-id-1 {color: black;background-color: white;}#sk-container-id-1 pre{padding: 0;}#sk-container-id-1 div.sk-toggleable {background-color: white;}#sk-container-id-1 label.sk-toggleable__label {cursor: pointer;display: block;width: 100%;margin-bottom: 0;padding: 0.3em;box-sizing: border-box;text-align: center;}#sk-container-id-1 label.sk-toggleable__label-arrow:before {content: \"▸\";float: left;margin-right: 0.25em;color: #696969;}#sk-container-id-1 label.sk-toggleable__label-arrow:hover:before {color: black;}#sk-container-id-1 div.sk-estimator:hover label.sk-toggleable__label-arrow:before {color: black;}#sk-container-id-1 div.sk-toggleable__content {max-height: 0;max-width: 0;overflow: hidden;text-align: left;background-color: #f0f8ff;}#sk-container-id-1 div.sk-toggleable__content pre {margin: 0.2em;color: black;border-radius: 0.25em;background-color: #f0f8ff;}#sk-container-id-1 input.sk-toggleable__control:checked~div.sk-toggleable__content {max-height: 200px;max-width: 100%;overflow: auto;}#sk-container-id-1 input.sk-toggleable__control:checked~label.sk-toggleable__label-arrow:before {content: \"▾\";}#sk-container-id-1 div.sk-estimator input.sk-toggleable__control:checked~label.sk-toggleable__label {background-color: #d4ebff;}#sk-container-id-1 div.sk-label input.sk-toggleable__control:checked~label.sk-toggleable__label {background-color: #d4ebff;}#sk-container-id-1 input.sk-hidden--visually {border: 0;clip: rect(1px 1px 1px 1px);clip: rect(1px, 1px, 1px, 1px);height: 1px;margin: -1px;overflow: hidden;padding: 0;position: absolute;width: 1px;}#sk-container-id-1 div.sk-estimator {font-family: monospace;background-color: #f0f8ff;border: 1px dotted black;border-radius: 0.25em;box-sizing: border-box;margin-bottom: 0.5em;}#sk-container-id-1 div.sk-estimator:hover {background-color: #d4ebff;}#sk-container-id-1 div.sk-parallel-item::after {content: \"\";width: 100%;border-bottom: 1px solid gray;flex-grow: 1;}#sk-container-id-1 div.sk-label:hover label.sk-toggleable__label {background-color: #d4ebff;}#sk-container-id-1 div.sk-serial::before {content: \"\";position: absolute;border-left: 1px solid gray;box-sizing: border-box;top: 0;bottom: 0;left: 50%;z-index: 0;}#sk-container-id-1 div.sk-serial {display: flex;flex-direction: column;align-items: center;background-color: white;padding-right: 0.2em;padding-left: 0.2em;position: relative;}#sk-container-id-1 div.sk-item {position: relative;z-index: 1;}#sk-container-id-1 div.sk-parallel {display: flex;align-items: stretch;justify-content: center;background-color: white;position: relative;}#sk-container-id-1 div.sk-item::before, #sk-container-id-1 div.sk-parallel-item::before {content: \"\";position: absolute;border-left: 1px solid gray;box-sizing: border-box;top: 0;bottom: 0;left: 50%;z-index: -1;}#sk-container-id-1 div.sk-parallel-item {display: flex;flex-direction: column;z-index: 1;position: relative;background-color: white;}#sk-container-id-1 div.sk-parallel-item:first-child::after {align-self: flex-end;width: 50%;}#sk-container-id-1 div.sk-parallel-item:last-child::after {align-self: flex-start;width: 50%;}#sk-container-id-1 div.sk-parallel-item:only-child::after {width: 0;}#sk-container-id-1 div.sk-dashed-wrapped {border: 1px dashed gray;margin: 0 0.4em 0.5em 0.4em;box-sizing: border-box;padding-bottom: 0.4em;background-color: white;}#sk-container-id-1 div.sk-label label {font-family: monospace;font-weight: bold;display: inline-block;line-height: 1.2em;}#sk-container-id-1 div.sk-label-container {text-align: center;}#sk-container-id-1 div.sk-container {/* jupyter's `normalize.less` sets `[hidden] { display: none; }` but bootstrap.min.css set `[hidden] { display: none !important; }` so we also need the `!important` here to be able to override the default hidden behavior on the sphinx rendered scikit-learn.org. See: https://github.com/scikit-learn/scikit-learn/issues/21755 */display: inline-block !important;position: relative;}#sk-container-id-1 div.sk-text-repr-fallback {display: none;}</style><div id=\"sk-container-id-1\" class=\"sk-top-container\"><div class=\"sk-text-repr-fallback\"><pre>LogisticRegression()</pre><b>In a Jupyter environment, please rerun this cell to show the HTML representation or trust the notebook. <br />On GitHub, the HTML representation is unable to render, please try loading this page with nbviewer.org.</b></div><div class=\"sk-container\" hidden><div class=\"sk-item\"><div class=\"sk-estimator sk-toggleable\"><input class=\"sk-toggleable__control sk-hidden--visually\" id=\"sk-estimator-id-1\" type=\"checkbox\" checked><label for=\"sk-estimator-id-1\" class=\"sk-toggleable__label sk-toggleable__label-arrow\">LogisticRegression</label><div class=\"sk-toggleable__content\"><pre>LogisticRegression()</pre></div></div></div></div></div>"
      ],
      "text/plain": [
       "LogisticRegression()"
      ]
     },
     "execution_count": 21,
     "metadata": {},
     "output_type": "execute_result"
    }
   ],
   "source": [
    "model.fit(X_train_vec,y_train)"
   ]
  },
  {
   "cell_type": "code",
   "execution_count": 22,
   "id": "7084dc43-bb42-4606-a37a-55b14c8b22a2",
   "metadata": {},
   "outputs": [],
   "source": [
    "y_pred = model.predict(X_test_vec)"
   ]
  },
  {
   "cell_type": "code",
   "execution_count": 23,
   "id": "9663c80c-ea4b-416c-9fe1-7c24438e0161",
   "metadata": {},
   "outputs": [
    {
     "data": {
      "text/plain": [
       "0.7850877192982456"
      ]
     },
     "execution_count": 23,
     "metadata": {},
     "output_type": "execute_result"
    }
   ],
   "source": [
    "accuracy_score(y_test,y_pred)"
   ]
  },
  {
   "cell_type": "code",
   "execution_count": 24,
   "id": "c8f08ca7-1ecb-4995-b0c9-a0c079c12976",
   "metadata": {},
   "outputs": [
    {
     "name": "stdout",
     "output_type": "stream",
     "text": [
      "                        precision    recall  f1-score   support\n",
      "\n",
      "     Backend Developer       0.48      0.50      0.49        32\n",
      "Database Administrator       0.96      0.96      0.96        26\n",
      "       DevOps Engineer       0.92      0.87      0.89        38\n",
      "      Django Developer       0.80      0.83      0.81        29\n",
      "     Flutter Developer       0.92      0.97      0.94        35\n",
      "  Full Stack Developer       0.68      0.65      0.67        23\n",
      "        Java Developer       0.63      0.58      0.60        38\n",
      "  JavaScript Developer       0.83      0.77      0.80        39\n",
      "      Machine Learning       0.87      0.71      0.78        28\n",
      " Network Administrator       0.69      1.00      0.82        18\n",
      "     Node js developer       0.82      0.82      0.82        34\n",
      "         PHP Developer       0.69      0.92      0.79        26\n",
      "     Software Engineer       0.65      0.62      0.63        32\n",
      "   Wordpress Developer       0.90      0.83      0.86        23\n",
      "         iOS Developer       0.97      0.86      0.91        35\n",
      "\n",
      "              accuracy                           0.79       456\n",
      "             macro avg       0.79      0.79      0.79       456\n",
      "          weighted avg       0.79      0.79      0.78       456\n",
      "\n"
     ]
    }
   ],
   "source": [
    "report = classification_report(y_test,y_pred)\n",
    "print(report)"
   ]
  },
  {
   "cell_type": "markdown",
   "id": "e7bbdb58-10a0-47ee-9d22-e3c92c2c0bc1",
   "metadata": {},
   "source": [
    "### New Predictions"
   ]
  },
  {
   "cell_type": "code",
   "execution_count": 25,
   "id": "d3397e09-ddf5-412e-ac36-103ed30e5825",
   "metadata": {},
   "outputs": [],
   "source": [
    "import numpy as np"
   ]
  },
  {
   "cell_type": "code",
   "execution_count": 26,
   "id": "cfc963f6-7c7e-47a6-aac5-47304001a0f0",
   "metadata": {},
   "outputs": [],
   "source": [
    "input = np.array(['''Mandate Skills - Java 8, Spring boot, Hibernate, Microservices, AWS Lambda\n",
    "\n",
    "We are expecting a java lead who can be able to lead the team as well as the one who can contribute their individual performance in the project. \n",
    "\n",
    "Good Communication Skills.'''])"
   ]
  },
  {
   "cell_type": "code",
   "execution_count": 27,
   "id": "86682b48-8ea5-4025-9d66-b2f36785cd50",
   "metadata": {},
   "outputs": [],
   "source": [
    "new_preprocessed = []\n",
    "preprocess_data(input, new_preprocessed)"
   ]
  },
  {
   "cell_type": "code",
   "execution_count": 28,
   "id": "531962d7-869c-4ce6-863a-9ee512ec5cab",
   "metadata": {},
   "outputs": [
    {
     "data": {
      "text/plain": [
       "['mandate skill java 8 spring boot hibernate microservices aws lambda expecting java lead able lead team well one contribute individual performance project good communication skill']"
      ]
     },
     "execution_count": 28,
     "metadata": {},
     "output_type": "execute_result"
    }
   ],
   "source": [
    "new_preprocessed"
   ]
  },
  {
   "cell_type": "code",
   "execution_count": 29,
   "id": "fa91495f-2f2d-436e-811c-87d022ee4116",
   "metadata": {},
   "outputs": [],
   "source": [
    "user_input_vec = vectorizer.transform(new_preprocessed)"
   ]
  },
  {
   "cell_type": "code",
   "execution_count": 30,
   "id": "c7779199-7f5b-4997-925b-43f1d2d1255a",
   "metadata": {},
   "outputs": [
    {
     "data": {
      "text/plain": [
       "<1x17408 sparse matrix of type '<class 'numpy.int64'>'\n",
       "\twith 21 stored elements in Compressed Sparse Row format>"
      ]
     },
     "execution_count": 30,
     "metadata": {},
     "output_type": "execute_result"
    }
   ],
   "source": [
    "user_input_vec"
   ]
  },
  {
   "cell_type": "code",
   "execution_count": 31,
   "id": "4f0ffda0-98d7-4ffc-829c-246db2ae9b60",
   "metadata": {},
   "outputs": [
    {
     "data": {
      "text/plain": [
       "array(['Java Developer'], dtype=object)"
      ]
     },
     "execution_count": 31,
     "metadata": {},
     "output_type": "execute_result"
    }
   ],
   "source": [
    "model.predict(user_input_vec)"
   ]
  },
  {
   "cell_type": "markdown",
   "id": "21eb8bc9-2e83-4b75-85d8-95c3aea7b0db",
   "metadata": {},
   "source": [
    "### Saving the Model"
   ]
  },
  {
   "cell_type": "code",
   "execution_count": 52,
   "id": "a46f9897-9cdb-4f47-89ca-a87e587832ef",
   "metadata": {},
   "outputs": [],
   "source": [
    "import pickle"
   ]
  },
  {
   "cell_type": "code",
   "execution_count": 53,
   "id": "ed2f59fa-2585-466a-8796-441db53946b2",
   "metadata": {},
   "outputs": [],
   "source": [
    "with open('model.pkl', 'wb') as file:\n",
    "  pickle.dump(model, file)"
   ]
  },
  {
   "cell_type": "code",
   "execution_count": 54,
   "id": "0cd49910-aee0-412c-8cec-4a25d99385ff",
   "metadata": {},
   "outputs": [],
   "source": [
    "with open('vectorizer.pkl', 'wb') as file:\n",
    "  pickle.dump(vectorizer, file)"
   ]
  },
  {
   "cell_type": "markdown",
   "id": "188e238d-da5e-4bd9-bb1c-dfc50722dc9d",
   "metadata": {},
   "source": [
    "### Loading the model"
   ]
  },
  {
   "cell_type": "code",
   "execution_count": 55,
   "id": "d17139a3-a2d9-4753-94e4-38496c755cdc",
   "metadata": {},
   "outputs": [],
   "source": [
    "with open('model.pkl', 'rb') as file:\n",
    "  loaded_model = pickle.load(file)"
   ]
  },
  {
   "cell_type": "code",
   "execution_count": 56,
   "id": "a8d83177-2bc1-4f66-a947-6d4f7ce3b427",
   "metadata": {},
   "outputs": [
    {
     "data": {
      "text/plain": [
       "array(['Software Engineer'], dtype=object)"
      ]
     },
     "execution_count": 56,
     "metadata": {},
     "output_type": "execute_result"
    }
   ],
   "source": [
    "loaded_model.predict(user_input_vec)"
   ]
  },
  {
   "cell_type": "code",
   "execution_count": null,
   "id": "223fe3a6-9049-4b25-a227-a3aba5211b1b",
   "metadata": {},
   "outputs": [],
   "source": []
  },
  {
   "cell_type": "code",
   "execution_count": null,
   "id": "48360ec9-2295-4577-b56f-a05c4f0a8082",
   "metadata": {},
   "outputs": [],
   "source": []
  },
  {
   "cell_type": "code",
   "execution_count": null,
   "id": "09e9b356-68c6-44fd-acd9-c78e08977883",
   "metadata": {},
   "outputs": [],
   "source": [
    "#SVM = 72\n",
    "#logistic = 0.7850877192982456\n",
    "#random forest =0.756578947368421\n",
    "#KNN = 0.47368421052631576\n",
    "#adaboost = 0.20175438596491227"
   ]
  }
 ],
 "metadata": {
  "kernelspec": {
   "display_name": "Python 3 (ipykernel)",
   "language": "python",
   "name": "python3"
  },
  "language_info": {
   "codemirror_mode": {
    "name": "ipython",
    "version": 3
   },
   "file_extension": ".py",
   "mimetype": "text/x-python",
   "name": "python",
   "nbconvert_exporter": "python",
   "pygments_lexer": "ipython3",
   "version": "3.11.7"
  }
 },
 "nbformat": 4,
 "nbformat_minor": 5
}
